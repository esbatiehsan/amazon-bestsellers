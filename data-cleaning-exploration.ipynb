{
 "cells": [
  {
   "cell_type": "code",
   "execution_count": null,
   "metadata": {},
   "outputs": [],
   "source": [
    "#loading the necessary python libraries\n",
    "import numpy as np\n",
    "import pandas as pd\n",
    "\n",
    "import seaborn as sns\n",
    "sns.set(font_scale = 1.5)\n",
    "\n",
    "import matplotlib.pyplot as plt\n",
    "from matplotlib.colors import ListedColormap\n",
    "%matplotlib inline\n",
    "%config InlineBackend.figure_format = 'retina'\n",
    "plt.style.use('fivethirtyeight')"
   ]
  },
  {
   "cell_type": "code",
   "execution_count": null,
   "metadata": {},
   "outputs": [],
   "source": [
    "#loading the dataset into a pandas dataframe\n",
    "amazon_books = pd.read_csv('../data-sources/amazon-bestsellers/amazon-bestsellers.csv')\n",
    "amazon_books.head()"
   ]
  },
  {
   "cell_type": "code",
   "execution_count": null,
   "metadata": {},
   "outputs": [],
   "source": [
    "amazon_books.info()"
   ]
  },
  {
   "cell_type": "code",
   "execution_count": null,
   "metadata": {},
   "outputs": [],
   "source": [
    "amazon_books.describe(include='all').T"
   ]
  },
  {
   "cell_type": "code",
   "execution_count": null,
   "metadata": {},
   "outputs": [],
   "source": [
    "amazon_books['Genre'].value_counts(normalize=True)"
   ]
  },
  {
   "cell_type": "code",
   "execution_count": null,
   "metadata": {},
   "outputs": [],
   "source": [
    "sns.catplot(data=amazon_books, x='Year', hue='Genre', kind='count',\n",
    "            alpha=0.8, height=6, aspect=15/6, palette=['k', 'crimson'])\n",
    "plt.xlabel('Year', fontsize=20, labelpad=20)\n",
    "plt.ylabel('Number of Titles', fontsize=20, labelpad=20)\n",
    "plt.show()"
   ]
  },
  {
   "cell_type": "code",
   "execution_count": null,
   "metadata": {},
   "outputs": [],
   "source": [
    "sns.catplot(data=amazon_books, x='Year', y='Reviews', hue='Genre',\n",
    "            kind='bar', alpha=0.8, height=6, aspect=15/6, ci=None,\n",
    "            palette=['k', 'crimson'])\n",
    "plt.xlabel('Year', fontsize=20, labelpad=20)\n",
    "plt.ylabel('Average Number of Reviews', fontsize=20, labelpad=20)\n",
    "plt.show()"
   ]
  },
  {
   "cell_type": "code",
   "execution_count": null,
   "metadata": {},
   "outputs": [],
   "source": [
    "sns.catplot(data=amazon_books, x='Year', y='Price', hue='Genre',\n",
    "            kind='bar', alpha=0.8, height=6, aspect=15/6, ci=None,\n",
    "            palette=['k', 'crimson'])\n",
    "plt.xlabel('Year', fontsize=20, labelpad=20)\n",
    "plt.ylabel('Average Price (S)', fontsize=20, labelpad=20)\n",
    "plt.show()"
   ]
  },
  {
   "cell_type": "code",
   "execution_count": null,
   "metadata": {},
   "outputs": [],
   "source": [
    "sns.catplot(data=amazon_books, x='Year', y='User Rating', hue='Genre',\n",
    "            kind='bar', alpha=0.8, height=6, aspect=15/6, ci=None,\n",
    "            palette=['k', 'crimson'])\n",
    "plt.xlabel('Year', fontsize=20, labelpad=20)\n",
    "plt.ylabel('Average User Rating', fontsize=20, labelpad=20)\n",
    "plt.show()"
   ]
  },
  {
   "cell_type": "code",
   "execution_count": null,
   "metadata": {},
   "outputs": [],
   "source": [
    "highest_rated_authors = amazon_books.groupby('Author', as_index=False)[['User Rating']].mean()\\\n",
    "                        .sort_values('User Rating', ascending=False).head(15)\n",
    "\n",
    "fig, ax = plt.subplots(figsize=(15, 6))\n",
    "sns.barplot(data=highest_rated_authors, x='Author', y='User Rating',\n",
    "            alpha=0.8, color='k', ax=ax)\n",
    "ax.set_xlabel('Author', labelpad=20)\n",
    "ax.set_ylabel('Average User Rating', labelpad=20)\n",
    "plt.xticks(rotation=90)\n",
    "plt.show()"
   ]
  },
  {
   "cell_type": "code",
   "execution_count": null,
   "metadata": {},
   "outputs": [],
   "source": [
    "most_reviewed_authors = amazon_books.groupby('Author', as_index=False)[['Reviews']].mean()\\\n",
    "                        .sort_values('Reviews', ascending=False).head(15)\n",
    "\n",
    "fig, ax = plt.subplots(figsize=(15, 6))\n",
    "sns.barplot(data=most_reviewed_authors, x='Author', y='Reviews',\n",
    "            alpha=0.8, color='k', ax=ax)\n",
    "ax.set_xlabel('Author', labelpad=20)\n",
    "ax.set_ylabel('Average Number of Reviews', labelpad=20)\n",
    "plt.xticks(rotation=90)\n",
    "plt.show()"
   ]
  },
  {
   "cell_type": "code",
   "execution_count": null,
   "metadata": {},
   "outputs": [],
   "source": [
    "most_expensive_authors = amazon_books.groupby('Author', as_index=False)[['Price']].mean()\\\n",
    "                            .sort_values('Price', ascending=False).head(15)\n",
    "\n",
    "fig, ax = plt.subplots(figsize=(15, 6))\n",
    "sns.barplot(data=most_expensive_authors, x='Author', y='Price',\n",
    "            alpha=0.8, color='k', ax=ax)\n",
    "ax.set_xlabel('Author', labelpad=20)\n",
    "ax.set_ylabel('Average Price ($)', labelpad=20)\n",
    "plt.xticks(rotation=90)\n",
    "plt.show()"
   ]
  },
  {
   "cell_type": "code",
   "execution_count": null,
   "metadata": {},
   "outputs": [],
   "source": [
    "highest_rated_titles = amazon_books.groupby('Name', as_index=False)[['User Rating']].mean()\\\n",
    "                        .sort_values('User Rating', ascending=False).head(15)\n",
    "\n",
    "fig, ax = plt.subplots(figsize=(15, 25))\n",
    "sns.barplot(data=highest_rated_titles, y='Name', x='User Rating',\n",
    "            alpha=0.8, color='k', ax=ax)\n",
    "ax.set_ylabel('Name', fontsize=40, labelpad=20)\n",
    "ax.set_xlabel('Average User Rating', fontsize=40, labelpad=20)\n",
    "plt.xticks(fontsize=30)\n",
    "plt.yticks(fontsize=30)\n",
    "plt.show()"
   ]
  },
  {
   "cell_type": "code",
   "execution_count": null,
   "metadata": {},
   "outputs": [],
   "source": [
    "most_reviewed_titles = amazon_books.groupby('Name', as_index=False)[['Reviews']].mean()\\\n",
    "                        .sort_values('Reviews', ascending=False).head(15)\n",
    "\n",
    "fig, ax = plt.subplots(figsize=(15, 25))\n",
    "sns.barplot(data=most_reviewed_titles, y='Name', x='Reviews',\n",
    "            alpha=0.8, color='k', ax=ax)\n",
    "ax.set_ylabel('Name', fontsize=40, labelpad=20)\n",
    "ax.set_xlabel('Average Number of Reviews', fontsize=40, labelpad=20)\n",
    "plt.xticks(fontsize=30)\n",
    "plt.yticks(fontsize=30)\n",
    "plt.show()"
   ]
  },
  {
   "cell_type": "code",
   "execution_count": null,
   "metadata": {},
   "outputs": [],
   "source": [
    "most_expensive_titles = amazon_books.groupby('Name', as_index=False)[['Price']].mean()\\\n",
    "                            .sort_values('Price', ascending=False).head(15)\n",
    "\n",
    "fig, ax = plt.subplots(figsize=(15, 25))\n",
    "sns.barplot(data=most_expensive_titles, y='Name', x='Price',\n",
    "            alpha=0.8, color='k', ax=ax)\n",
    "ax.set_ylabel('Name', fontsize=40, labelpad=20)\n",
    "ax.set_xlabel('Average Price ($)', fontsize=40, labelpad=20)\n",
    "plt.xticks(fontsize=30)\n",
    "plt.yticks(fontsize=30)\n",
    "plt.show()"
   ]
  },
  {
   "cell_type": "code",
   "execution_count": null,
   "metadata": {},
   "outputs": [],
   "source": [
    "genre_mean_price = amazon_books.groupby('Genre', as_index=False)[['Price']].mean()\n",
    "\n",
    "fig, ax = plt.subplots(figsize=(8, 8))\n",
    "sns.barplot(data=genre_mean_price, x='Genre', y='Price', palette=['k', 'crimson'], ax=ax)\n",
    "ax.set_ylabel('Average Price ($)', labelpad=20)\n",
    "ax.set_xlabel('Genre', labelpad=20)\n",
    "plt.show()"
   ]
  }
 ],
 "metadata": {
  "kernelspec": {
   "display_name": "Python 3",
   "language": "python",
   "name": "python3"
  },
  "language_info": {
   "codemirror_mode": {
    "name": "ipython",
    "version": 3
   },
   "file_extension": ".py",
   "mimetype": "text/x-python",
   "name": "python",
   "nbconvert_exporter": "python",
   "pygments_lexer": "ipython3",
   "version": "3.8.5"
  }
 },
 "nbformat": 4,
 "nbformat_minor": 4
}
