{
 "cells": [
  {
   "cell_type": "markdown",
   "metadata": {},
   "source": [
    "## Recommender Model\n",
    "\n",
    "In this exercise, I attempt to build a simple recommender model using <code>NearsetNeighbors</code> and <code>cosine_similarity</code> buy defining a function that accepts a book name, amongst other parameters, and returns 5 recommendations based on the chosen book and their degrees of cosine similarity."
   ]
  },
  {
   "cell_type": "code",
   "execution_count": 1,
   "metadata": {},
   "outputs": [],
   "source": [
    "#loading the necessary python libraries\n",
    "import pandas as pd\n",
    "import numpy as np\n",
    "\n",
    "import seaborn as sns\n",
    "sns.set(font_scale=1.5)\n",
    "\n",
    "import matplotlib.pyplot as plt\n",
    "%config InlineBackend.figure_format = 'retina'\n",
    "%matplotlib inline\n",
    "plt.style.use('fivethirtyeight')"
   ]
  },
  {
   "cell_type": "code",
   "execution_count": 2,
   "metadata": {},
   "outputs": [],
   "source": [
    "#loading the necessary scikit-learn modules\n",
    "from sklearn.preprocessing import StandardScaler, LabelEncoder\n",
    "from sklearn.neighbors import NearestNeighbors\n",
    "from sklearn.metrics.pairwise import cosine_similarity "
   ]
  },
  {
   "cell_type": "code",
   "execution_count": 3,
   "metadata": {},
   "outputs": [
    {
     "data": {
      "text/html": [
       "<div>\n",
       "<style scoped>\n",
       "    .dataframe tbody tr th:only-of-type {\n",
       "        vertical-align: middle;\n",
       "    }\n",
       "\n",
       "    .dataframe tbody tr th {\n",
       "        vertical-align: top;\n",
       "    }\n",
       "\n",
       "    .dataframe thead th {\n",
       "        text-align: right;\n",
       "    }\n",
       "</style>\n",
       "<table border=\"1\" class=\"dataframe\">\n",
       "  <thead>\n",
       "    <tr style=\"text-align: right;\">\n",
       "      <th></th>\n",
       "      <th>name</th>\n",
       "      <th>author</th>\n",
       "      <th>rating</th>\n",
       "      <th>reviews</th>\n",
       "      <th>price</th>\n",
       "      <th>year</th>\n",
       "      <th>genre</th>\n",
       "    </tr>\n",
       "  </thead>\n",
       "  <tbody>\n",
       "    <tr>\n",
       "      <th>0</th>\n",
       "      <td>10-Day Green Smoothie Cleanse</td>\n",
       "      <td>JJ Smith</td>\n",
       "      <td>4.7</td>\n",
       "      <td>17350</td>\n",
       "      <td>8</td>\n",
       "      <td>2016</td>\n",
       "      <td>Non Fiction</td>\n",
       "    </tr>\n",
       "    <tr>\n",
       "      <th>1</th>\n",
       "      <td>11/22/63: A Novel</td>\n",
       "      <td>Stephen King</td>\n",
       "      <td>4.6</td>\n",
       "      <td>2052</td>\n",
       "      <td>22</td>\n",
       "      <td>2011</td>\n",
       "      <td>Fiction</td>\n",
       "    </tr>\n",
       "    <tr>\n",
       "      <th>2</th>\n",
       "      <td>12 Rules for Life: An Antidote to Chaos</td>\n",
       "      <td>Jordan B. Peterson</td>\n",
       "      <td>4.7</td>\n",
       "      <td>18979</td>\n",
       "      <td>15</td>\n",
       "      <td>2018</td>\n",
       "      <td>Non Fiction</td>\n",
       "    </tr>\n",
       "    <tr>\n",
       "      <th>3</th>\n",
       "      <td>1984 (Signet Classics)</td>\n",
       "      <td>George Orwell</td>\n",
       "      <td>4.7</td>\n",
       "      <td>21424</td>\n",
       "      <td>6</td>\n",
       "      <td>2017</td>\n",
       "      <td>Fiction</td>\n",
       "    </tr>\n",
       "    <tr>\n",
       "      <th>4</th>\n",
       "      <td>5,000 Awesome Facts (About Everything!) (Natio...</td>\n",
       "      <td>National Geographic Kids</td>\n",
       "      <td>4.8</td>\n",
       "      <td>7665</td>\n",
       "      <td>12</td>\n",
       "      <td>2019</td>\n",
       "      <td>Non Fiction</td>\n",
       "    </tr>\n",
       "  </tbody>\n",
       "</table>\n",
       "</div>"
      ],
      "text/plain": [
       "                                                name  \\\n",
       "0                      10-Day Green Smoothie Cleanse   \n",
       "1                                  11/22/63: A Novel   \n",
       "2            12 Rules for Life: An Antidote to Chaos   \n",
       "3                             1984 (Signet Classics)   \n",
       "4  5,000 Awesome Facts (About Everything!) (Natio...   \n",
       "\n",
       "                     author  rating  reviews  price  year        genre  \n",
       "0                  JJ Smith     4.7    17350      8  2016  Non Fiction  \n",
       "1              Stephen King     4.6     2052     22  2011      Fiction  \n",
       "2        Jordan B. Peterson     4.7    18979     15  2018  Non Fiction  \n",
       "3             George Orwell     4.7    21424      6  2017      Fiction  \n",
       "4  National Geographic Kids     4.8     7665     12  2019  Non Fiction  "
      ]
     },
     "execution_count": 3,
     "metadata": {},
     "output_type": "execute_result"
    }
   ],
   "source": [
    "#loading the dataset into a pandas dataframe\n",
    "amazon_books = pd.read_csv('../data-sources/amazon-bestsellers/amazon-bestsellers.csv')\n",
    "\n",
    "#renaming the columns\n",
    "amazon_books.columns = ['name', 'author', 'rating', 'reviews', 'price', 'year', 'genre']\n",
    "\n",
    "#dropping the duplicate entries that appear across multiple years\n",
    "amazon_books.drop_duplicates(subset='name', inplace=True, ignore_index=True)\n",
    "\n",
    "#displaying the first 5 rows\n",
    "amazon_books.head()"
   ]
  },
  {
   "cell_type": "markdown",
   "metadata": {},
   "source": [
    "The genre column contains categorical data which should be converted to binary. This can be done by using LabelEncoder from scikit-learn."
   ]
  },
  {
   "cell_type": "code",
   "execution_count": 4,
   "metadata": {},
   "outputs": [],
   "source": [
    "#instantiating a labelEncoder object\n",
    "le = LabelEncoder()\n",
    "\n",
    "#convering the genre column to binary\n",
    "amazon_books['genre'] = le.fit_transform(amazon_books['genre'])"
   ]
  },
  {
   "cell_type": "code",
   "execution_count": 6,
   "metadata": {},
   "outputs": [
    {
     "data": {
      "text/plain": [
       "(351, 253)"
      ]
     },
     "execution_count": 6,
     "metadata": {},
     "output_type": "execute_result"
    }
   ],
   "source": [
    "#dummifying the author names\n",
    "amazon_books = pd.get_dummies(amazon_books, columns=['author'], drop_first=True)"
   ]
  },
  {
   "cell_type": "markdown",
   "metadata": {},
   "source": [
    "Given that this recommendation system depends on accurate calculation of distances, scaling the data is of utmost importance. Here I've chosen to use StandardScaler from scikit-learn to achieve this."
   ]
  },
  {
   "cell_type": "code",
   "execution_count": 7,
   "metadata": {},
   "outputs": [
    {
     "data": {
      "text/html": [
       "<div>\n",
       "<style scoped>\n",
       "    .dataframe tbody tr th:only-of-type {\n",
       "        vertical-align: middle;\n",
       "    }\n",
       "\n",
       "    .dataframe tbody tr th {\n",
       "        vertical-align: top;\n",
       "    }\n",
       "\n",
       "    .dataframe thead th {\n",
       "        text-align: right;\n",
       "    }\n",
       "</style>\n",
       "<table border=\"1\" class=\"dataframe\">\n",
       "  <thead>\n",
       "    <tr style=\"text-align: right;\">\n",
       "      <th></th>\n",
       "      <th>rating</th>\n",
       "      <th>reviews</th>\n",
       "      <th>price</th>\n",
       "      <th>year</th>\n",
       "    </tr>\n",
       "  </thead>\n",
       "  <tbody>\n",
       "    <tr>\n",
       "      <th>0</th>\n",
       "      <td>0.402782</td>\n",
       "      <td>0.695506</td>\n",
       "      <td>-0.505844</td>\n",
       "      <td>0.757873</td>\n",
       "    </tr>\n",
       "    <tr>\n",
       "      <th>1</th>\n",
       "      <td>-0.039019</td>\n",
       "      <td>-0.713687</td>\n",
       "      <td>0.889060</td>\n",
       "      <td>-0.767433</td>\n",
       "    </tr>\n",
       "    <tr>\n",
       "      <th>2</th>\n",
       "      <td>0.402782</td>\n",
       "      <td>0.845563</td>\n",
       "      <td>0.191608</td>\n",
       "      <td>1.367996</td>\n",
       "    </tr>\n",
       "    <tr>\n",
       "      <th>3</th>\n",
       "      <td>0.402782</td>\n",
       "      <td>1.070787</td>\n",
       "      <td>-0.705116</td>\n",
       "      <td>1.062934</td>\n",
       "    </tr>\n",
       "    <tr>\n",
       "      <th>4</th>\n",
       "      <td>0.844583</td>\n",
       "      <td>-0.196639</td>\n",
       "      <td>-0.107300</td>\n",
       "      <td>1.673057</td>\n",
       "    </tr>\n",
       "  </tbody>\n",
       "</table>\n",
       "</div>"
      ],
      "text/plain": [
       "     rating   reviews     price      year\n",
       "0  0.402782  0.695506 -0.505844  0.757873\n",
       "1 -0.039019 -0.713687  0.889060 -0.767433\n",
       "2  0.402782  0.845563  0.191608  1.367996\n",
       "3  0.402782  1.070787 -0.705116  1.062934\n",
       "4  0.844583 -0.196639 -0.107300  1.673057"
      ]
     },
     "execution_count": 7,
     "metadata": {},
     "output_type": "execute_result"
    }
   ],
   "source": [
    "#separating continuous features for scaling \n",
    "scalable_cols = amazon_books[['rating', 'reviews', 'price', 'year']]\n",
    "\n",
    "#instantiating a StandardScaler object and tranforming all the availabel continuous features\n",
    "scaler = StandardScaler()\n",
    "scalable_cols = pd.DataFrame(scaler.fit_transform(scalable_cols), columns=scalable_cols.columns)"
   ]
  },
  {
   "cell_type": "code",
   "execution_count": 8,
   "metadata": {},
   "outputs": [],
   "source": [
    "#inserting the scaled features back into the original dataframe\n",
    "amazon_books[['rating', 'reviews', 'price', 'year']] = scalable_cols"
   ]
  },
  {
   "cell_type": "markdown",
   "metadata": {},
   "source": [
    "implementing this recommender model as a function would make it easier to integrate it into a larger project further down the line. It also makes it easier to use as a stand-alone system. "
   ]
  },
  {
   "cell_type": "code",
   "execution_count": 41,
   "metadata": {},
   "outputs": [],
   "source": [
    "#defining a recommendation function\n",
    "def BookRecommender(X, num_recommendation=5, selected_book, metric='manhattan'):\n",
    "    \n",
    "    \"\"\"This function is used to recommend at least five similar books to the one chosen\n",
    "       by the user and sorts them by degree of similarity. It used the following parameters to make its recommendations:\n",
    "       \n",
    "       database: a pandas dataframe containing the book names and related data\n",
    "       \n",
    "       num_recommendation: the number of recommended books set by the user, default = 5\n",
    "       \n",
    "       selected_book: A book chosen by the user form the database\n",
    "       \n",
    "       metric: the distance metric to use when finding the nearset neighbors, default = manhattan\"\"\"\n",
    "    \n",
    "    #instantiating a NearestNeighbors object and fitting it to the dataframe\n",
    "    neighbor_finder = NearestNeighbors(n_neighbors=num_recommendations+1, metric=metric)\n",
    "    neighbor_finder.fit(X.iloc[:, 1:])\n",
    "    \n",
    "    #getting the distances indices from the fitted model and creating a list of closest neighbors\n",
    "    distances, indices = neighbor_finder.kneighbors(X.set_index('name', drop=True).loc[[selected_book]])\n",
    "    recommended_books = [X.loc[i][0] for i in indices.flatten()][1:]\n",
    "    \n",
    "    #creating an empty list and appending the degree of similarity between the user selected book and each\n",
    "    #of the closest neighbors using cosine_similarity\n",
    "    similarity = []\n",
    "    for book in recommended_books:\n",
    "        similarity.append(cosine_similarity(X.set_index('name', drop=True).loc[[selected_book]], \\\n",
    "                                            X.set_index('name', drop=True).loc[[book]]).flatten()[0])\n",
    "    \n",
    "    #putting the recommendations and their rate of similarities in a dataframe and sorting by similarity\n",
    "    recommended_books = pd.DataFrame({'Recommended Books': recommended_books, 'Similarity': similarity})\n",
    "    recommended_books.sort_values('Similarity', ascending=False, inplace=True, ignore_index=True)\n",
    "    \n",
    "    #returning this dataframe\n",
    "    print(f'These books best match \"{selected_book}\":')\n",
    "    return recommended_books"
   ]
  },
  {
   "cell_type": "code",
   "execution_count": 45,
   "metadata": {},
   "outputs": [
    {
     "name": "stdout",
     "output_type": "stream",
     "text": [
      "These books best match \"Broke: The Plan to Restore Our Trust, Truth and Treasure\":\n"
     ]
    },
    {
     "data": {
      "text/html": [
       "<div>\n",
       "<style scoped>\n",
       "    .dataframe tbody tr th:only-of-type {\n",
       "        vertical-align: middle;\n",
       "    }\n",
       "\n",
       "    .dataframe tbody tr th {\n",
       "        vertical-align: top;\n",
       "    }\n",
       "\n",
       "    .dataframe thead th {\n",
       "        text-align: right;\n",
       "    }\n",
       "</style>\n",
       "<table border=\"1\" class=\"dataframe\">\n",
       "  <thead>\n",
       "    <tr style=\"text-align: right;\">\n",
       "      <th></th>\n",
       "      <th>Recommended Books</th>\n",
       "      <th>Similarity</th>\n",
       "    </tr>\n",
       "  </thead>\n",
       "  <tbody>\n",
       "    <tr>\n",
       "      <th>0</th>\n",
       "      <td>Arguing with Idiots: How to Stop Small Minds a...</td>\n",
       "      <td>0.964471</td>\n",
       "    </tr>\n",
       "    <tr>\n",
       "      <th>1</th>\n",
       "      <td>Glenn Beck's Common Sense: The Case Against an...</td>\n",
       "      <td>0.957089</td>\n",
       "    </tr>\n",
       "    <tr>\n",
       "      <th>2</th>\n",
       "      <td>Game Change: Obama and the Clintons, McCain an...</td>\n",
       "      <td>0.759736</td>\n",
       "    </tr>\n",
       "    <tr>\n",
       "      <th>3</th>\n",
       "      <td>Food Rules: An Eater's Manual</td>\n",
       "      <td>0.757707</td>\n",
       "    </tr>\n",
       "    <tr>\n",
       "      <th>4</th>\n",
       "      <td>The Daily Show with Jon Stewart Presents Earth...</td>\n",
       "      <td>0.751448</td>\n",
       "    </tr>\n",
       "  </tbody>\n",
       "</table>\n",
       "</div>"
      ],
      "text/plain": [
       "                                   Recommended Books  Similarity\n",
       "0  Arguing with Idiots: How to Stop Small Minds a...    0.964471\n",
       "1  Glenn Beck's Common Sense: The Case Against an...    0.957089\n",
       "2  Game Change: Obama and the Clintons, McCain an...    0.759736\n",
       "3                      Food Rules: An Eater's Manual    0.757707\n",
       "4  The Daily Show with Jon Stewart Presents Earth...    0.751448"
      ]
     },
     "execution_count": 45,
     "metadata": {},
     "output_type": "execute_result"
    }
   ],
   "source": [
    "#asking for 5 recommendations based on euclidean distance\n",
    "BookRecommender(amazon_books, 5, amazon_books.iloc[35, 0], 'euclidean')"
   ]
  },
  {
   "cell_type": "code",
   "execution_count": 46,
   "metadata": {},
   "outputs": [
    {
     "name": "stdout",
     "output_type": "stream",
     "text": [
      "These books best match \"Broke: The Plan to Restore Our Trust, Truth and Treasure\":\n"
     ]
    },
    {
     "data": {
      "text/html": [
       "<div>\n",
       "<style scoped>\n",
       "    .dataframe tbody tr th:only-of-type {\n",
       "        vertical-align: middle;\n",
       "    }\n",
       "\n",
       "    .dataframe tbody tr th {\n",
       "        vertical-align: top;\n",
       "    }\n",
       "\n",
       "    .dataframe thead th {\n",
       "        text-align: right;\n",
       "    }\n",
       "</style>\n",
       "<table border=\"1\" class=\"dataframe\">\n",
       "  <thead>\n",
       "    <tr style=\"text-align: right;\">\n",
       "      <th></th>\n",
       "      <th>Recommended Books</th>\n",
       "      <th>Similarity</th>\n",
       "    </tr>\n",
       "  </thead>\n",
       "  <tbody>\n",
       "    <tr>\n",
       "      <th>0</th>\n",
       "      <td>Arguing with Idiots: How to Stop Small Minds a...</td>\n",
       "      <td>0.964471</td>\n",
       "    </tr>\n",
       "    <tr>\n",
       "      <th>1</th>\n",
       "      <td>Glenn Beck's Common Sense: The Case Against an...</td>\n",
       "      <td>0.957089</td>\n",
       "    </tr>\n",
       "    <tr>\n",
       "      <th>2</th>\n",
       "      <td>Game Change: Obama and the Clintons, McCain an...</td>\n",
       "      <td>0.759736</td>\n",
       "    </tr>\n",
       "    <tr>\n",
       "      <th>3</th>\n",
       "      <td>Food Rules: An Eater's Manual</td>\n",
       "      <td>0.757707</td>\n",
       "    </tr>\n",
       "    <tr>\n",
       "      <th>4</th>\n",
       "      <td>The Daily Show with Jon Stewart Presents Earth...</td>\n",
       "      <td>0.751448</td>\n",
       "    </tr>\n",
       "  </tbody>\n",
       "</table>\n",
       "</div>"
      ],
      "text/plain": [
       "                                   Recommended Books  Similarity\n",
       "0  Arguing with Idiots: How to Stop Small Minds a...    0.964471\n",
       "1  Glenn Beck's Common Sense: The Case Against an...    0.957089\n",
       "2  Game Change: Obama and the Clintons, McCain an...    0.759736\n",
       "3                      Food Rules: An Eater's Manual    0.757707\n",
       "4  The Daily Show with Jon Stewart Presents Earth...    0.751448"
      ]
     },
     "execution_count": 46,
     "metadata": {},
     "output_type": "execute_result"
    }
   ],
   "source": [
    "#asking for 5 recommendations based on manhattan distance\n",
    "BookRecommender(amazon_books, 5, amazon_books.iloc[35, 0], 'manhattan')"
   ]
  }
 ],
 "metadata": {
  "kernelspec": {
   "display_name": "Python 3",
   "language": "python",
   "name": "python3"
  },
  "language_info": {
   "codemirror_mode": {
    "name": "ipython",
    "version": 3
   },
   "file_extension": ".py",
   "mimetype": "text/x-python",
   "name": "python",
   "nbconvert_exporter": "python",
   "pygments_lexer": "ipython3",
   "version": "3.8.5"
  }
 },
 "nbformat": 4,
 "nbformat_minor": 4
}
