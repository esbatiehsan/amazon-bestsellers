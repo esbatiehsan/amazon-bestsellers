{
 "cells": [
  {
   "cell_type": "code",
   "execution_count": 148,
   "metadata": {},
   "outputs": [],
   "source": [
    "import pandas as pd\n",
    "import numpy as np\n",
    "\n",
    "import seaborn as sns\n",
    "sns.set(font_scale=1.5)\n",
    "\n",
    "import matplotlib.pyplot as plt\n",
    "%config InlineBackend.figure_format = 'retina'\n",
    "%matplotlib inline\n",
    "plt.style.use('fivethirtyeight')"
   ]
  },
  {
   "cell_type": "code",
   "execution_count": 149,
   "metadata": {},
   "outputs": [],
   "source": [
    "from sklearn.preprocessing import StandardScaler, LabelEncoder\n",
    "from sklearn.neighbors import NearestNeighbors"
   ]
  },
  {
   "cell_type": "code",
   "execution_count": 150,
   "metadata": {},
   "outputs": [
    {
     "data": {
      "text/html": [
       "<div>\n",
       "<style scoped>\n",
       "    .dataframe tbody tr th:only-of-type {\n",
       "        vertical-align: middle;\n",
       "    }\n",
       "\n",
       "    .dataframe tbody tr th {\n",
       "        vertical-align: top;\n",
       "    }\n",
       "\n",
       "    .dataframe thead th {\n",
       "        text-align: right;\n",
       "    }\n",
       "</style>\n",
       "<table border=\"1\" class=\"dataframe\">\n",
       "  <thead>\n",
       "    <tr style=\"text-align: right;\">\n",
       "      <th></th>\n",
       "      <th>name</th>\n",
       "      <th>author</th>\n",
       "      <th>rating</th>\n",
       "      <th>reviews</th>\n",
       "      <th>price</th>\n",
       "      <th>year</th>\n",
       "      <th>genre</th>\n",
       "    </tr>\n",
       "  </thead>\n",
       "  <tbody>\n",
       "    <tr>\n",
       "      <th>0</th>\n",
       "      <td>10-Day Green Smoothie Cleanse</td>\n",
       "      <td>JJ Smith</td>\n",
       "      <td>4.7</td>\n",
       "      <td>17350</td>\n",
       "      <td>8</td>\n",
       "      <td>2016</td>\n",
       "      <td>Non Fiction</td>\n",
       "    </tr>\n",
       "    <tr>\n",
       "      <th>1</th>\n",
       "      <td>11/22/63: A Novel</td>\n",
       "      <td>Stephen King</td>\n",
       "      <td>4.6</td>\n",
       "      <td>2052</td>\n",
       "      <td>22</td>\n",
       "      <td>2011</td>\n",
       "      <td>Fiction</td>\n",
       "    </tr>\n",
       "    <tr>\n",
       "      <th>2</th>\n",
       "      <td>12 Rules for Life: An Antidote to Chaos</td>\n",
       "      <td>Jordan B. Peterson</td>\n",
       "      <td>4.7</td>\n",
       "      <td>18979</td>\n",
       "      <td>15</td>\n",
       "      <td>2018</td>\n",
       "      <td>Non Fiction</td>\n",
       "    </tr>\n",
       "    <tr>\n",
       "      <th>3</th>\n",
       "      <td>1984 (Signet Classics)</td>\n",
       "      <td>George Orwell</td>\n",
       "      <td>4.7</td>\n",
       "      <td>21424</td>\n",
       "      <td>6</td>\n",
       "      <td>2017</td>\n",
       "      <td>Fiction</td>\n",
       "    </tr>\n",
       "    <tr>\n",
       "      <th>4</th>\n",
       "      <td>5,000 Awesome Facts (About Everything!) (Natio...</td>\n",
       "      <td>National Geographic Kids</td>\n",
       "      <td>4.8</td>\n",
       "      <td>7665</td>\n",
       "      <td>12</td>\n",
       "      <td>2019</td>\n",
       "      <td>Non Fiction</td>\n",
       "    </tr>\n",
       "  </tbody>\n",
       "</table>\n",
       "</div>"
      ],
      "text/plain": [
       "                                                name  \\\n",
       "0                      10-Day Green Smoothie Cleanse   \n",
       "1                                  11/22/63: A Novel   \n",
       "2            12 Rules for Life: An Antidote to Chaos   \n",
       "3                             1984 (Signet Classics)   \n",
       "4  5,000 Awesome Facts (About Everything!) (Natio...   \n",
       "\n",
       "                     author  rating  reviews  price  year        genre  \n",
       "0                  JJ Smith     4.7    17350      8  2016  Non Fiction  \n",
       "1              Stephen King     4.6     2052     22  2011      Fiction  \n",
       "2        Jordan B. Peterson     4.7    18979     15  2018  Non Fiction  \n",
       "3             George Orwell     4.7    21424      6  2017      Fiction  \n",
       "4  National Geographic Kids     4.8     7665     12  2019  Non Fiction  "
      ]
     },
     "execution_count": 150,
     "metadata": {},
     "output_type": "execute_result"
    }
   ],
   "source": [
    "amazon_books = pd.read_csv('../data-sources/amazon-bestsellers/amazon-bestsellers.csv')\n",
    "amazon_books.columns = ['name', 'author', 'rating', 'reviews', 'price', 'year', 'genre']\n",
    "amazon_books.drop_duplicates(subset='name', inplace=True, ignore_index=True)\n",
    "amazon_books.head()"
   ]
  },
  {
   "cell_type": "code",
   "execution_count": 151,
   "metadata": {},
   "outputs": [],
   "source": [
    "le = LabelEncoder()\n",
    "amazon_books['genre'] = le.fit_transform(amazon_books['genre'])"
   ]
  },
  {
   "cell_type": "code",
   "execution_count": 152,
   "metadata": {},
   "outputs": [
    {
     "data": {
      "text/plain": [
       "(351, 7)"
      ]
     },
     "execution_count": 152,
     "metadata": {},
     "output_type": "execute_result"
    }
   ],
   "source": [
    "amazon_books.shape"
   ]
  },
  {
   "cell_type": "code",
   "execution_count": 153,
   "metadata": {},
   "outputs": [
    {
     "data": {
      "text/plain": [
       "(351, 253)"
      ]
     },
     "execution_count": 153,
     "metadata": {},
     "output_type": "execute_result"
    }
   ],
   "source": [
    "amazon_books = pd.get_dummies(amazon_books, columns=['author'], drop_first=True)\n",
    "amazon_books.shape"
   ]
  },
  {
   "cell_type": "code",
   "execution_count": 154,
   "metadata": {},
   "outputs": [
    {
     "data": {
      "text/html": [
       "<div>\n",
       "<style scoped>\n",
       "    .dataframe tbody tr th:only-of-type {\n",
       "        vertical-align: middle;\n",
       "    }\n",
       "\n",
       "    .dataframe tbody tr th {\n",
       "        vertical-align: top;\n",
       "    }\n",
       "\n",
       "    .dataframe thead th {\n",
       "        text-align: right;\n",
       "    }\n",
       "</style>\n",
       "<table border=\"1\" class=\"dataframe\">\n",
       "  <thead>\n",
       "    <tr style=\"text-align: right;\">\n",
       "      <th></th>\n",
       "      <th>rating</th>\n",
       "      <th>reviews</th>\n",
       "      <th>price</th>\n",
       "      <th>year</th>\n",
       "    </tr>\n",
       "  </thead>\n",
       "  <tbody>\n",
       "    <tr>\n",
       "      <th>0</th>\n",
       "      <td>0.402782</td>\n",
       "      <td>0.695506</td>\n",
       "      <td>-0.505844</td>\n",
       "      <td>0.757873</td>\n",
       "    </tr>\n",
       "    <tr>\n",
       "      <th>1</th>\n",
       "      <td>-0.039019</td>\n",
       "      <td>-0.713687</td>\n",
       "      <td>0.889060</td>\n",
       "      <td>-0.767433</td>\n",
       "    </tr>\n",
       "    <tr>\n",
       "      <th>2</th>\n",
       "      <td>0.402782</td>\n",
       "      <td>0.845563</td>\n",
       "      <td>0.191608</td>\n",
       "      <td>1.367996</td>\n",
       "    </tr>\n",
       "    <tr>\n",
       "      <th>3</th>\n",
       "      <td>0.402782</td>\n",
       "      <td>1.070787</td>\n",
       "      <td>-0.705116</td>\n",
       "      <td>1.062934</td>\n",
       "    </tr>\n",
       "    <tr>\n",
       "      <th>4</th>\n",
       "      <td>0.844583</td>\n",
       "      <td>-0.196639</td>\n",
       "      <td>-0.107300</td>\n",
       "      <td>1.673057</td>\n",
       "    </tr>\n",
       "  </tbody>\n",
       "</table>\n",
       "</div>"
      ],
      "text/plain": [
       "     rating   reviews     price      year\n",
       "0  0.402782  0.695506 -0.505844  0.757873\n",
       "1 -0.039019 -0.713687  0.889060 -0.767433\n",
       "2  0.402782  0.845563  0.191608  1.367996\n",
       "3  0.402782  1.070787 -0.705116  1.062934\n",
       "4  0.844583 -0.196639 -0.107300  1.673057"
      ]
     },
     "execution_count": 154,
     "metadata": {},
     "output_type": "execute_result"
    }
   ],
   "source": [
    "scalable_cols = amazon_books[['rating', 'reviews', 'price', 'year']]\n",
    "scaler = StandardScaler()\n",
    "scalable_cols = pd.DataFrame(scaler.fit_transform(scalable_cols), columns=scalable_cols.columns)\n",
    "scalable_cols.head()"
   ]
  },
  {
   "cell_type": "code",
   "execution_count": 155,
   "metadata": {},
   "outputs": [],
   "source": [
    "amazon_books[['rating', 'reviews', 'price', 'year']] = scalable_cols"
   ]
  },
  {
   "cell_type": "code",
   "execution_count": 163,
   "metadata": {},
   "outputs": [],
   "source": [
    "def BookRecommender(amazon_books, num_recommendations, selected_book):\n",
    "    \n",
    "    neighbor_finder = NearestNeighbors(n_neighbors=num_recommendations+1, metric='manhattan')\n",
    "    neighbor_finder.fit(amazon_books.iloc[:, 1:])\n",
    "    \n",
    "    distances, indices = neighbor_finder.kneighbors(amazon_books.set_index('name', drop=True).loc[[selected_book]])\n",
    "    recommended_books = [amazon_books.loc[i][0] for i in indices.flatten()][1:]\n",
    "    return recommended_books"
   ]
  },
  {
   "cell_type": "code",
   "execution_count": 164,
   "metadata": {},
   "outputs": [
    {
     "data": {
      "text/plain": [
       "['Arguing with Idiots: How to Stop Small Minds and Big Government',\n",
       " 'Divine Soul Mind Body Healing and Transmission System: The Divine Way to Heal You, Humanity, Mother Earth, and All…',\n",
       " 'Going Rogue: An American Life',\n",
       " 'Eat This Not That! Supermarket Survival Guide: The No-Diet Weight Loss Solution',\n",
       " 'The Five Dysfunctions of a Team: A Leadership Fable']"
      ]
     },
     "execution_count": 164,
     "metadata": {},
     "output_type": "execute_result"
    }
   ],
   "source": [
    "BookRecommender(amazon_books, 5, amazon_books.iloc[10, 0])"
   ]
  },
  {
   "cell_type": "code",
   "execution_count": 158,
   "metadata": {},
   "outputs": [
    {
     "data": {
      "text/plain": [
       "RangeIndex(start=0, stop=351, step=1)"
      ]
     },
     "execution_count": 158,
     "metadata": {},
     "output_type": "execute_result"
    }
   ],
   "source": [
    "amazon_books.index"
   ]
  },
  {
   "cell_type": "code",
   "execution_count": 162,
   "metadata": {},
   "outputs": [
    {
     "data": {
      "text/plain": [
       "'A Stolen Life: A Memoir'"
      ]
     },
     "execution_count": 162,
     "metadata": {},
     "output_type": "execute_result"
    }
   ],
   "source": [
    "amazon_books.iloc[11, 0]"
   ]
  },
  {
   "cell_type": "code",
   "execution_count": 160,
   "metadata": {},
   "outputs": [
    {
     "data": {
      "text/plain": [
       "(351, 253)"
      ]
     },
     "execution_count": 160,
     "metadata": {},
     "output_type": "execute_result"
    }
   ],
   "source": [
    "amazon_books.shape"
   ]
  },
  {
   "cell_type": "code",
   "execution_count": 161,
   "metadata": {},
   "outputs": [
    {
     "data": {
      "text/html": [
       "<div>\n",
       "<style scoped>\n",
       "    .dataframe tbody tr th:only-of-type {\n",
       "        vertical-align: middle;\n",
       "    }\n",
       "\n",
       "    .dataframe tbody tr th {\n",
       "        vertical-align: top;\n",
       "    }\n",
       "\n",
       "    .dataframe thead th {\n",
       "        text-align: right;\n",
       "    }\n",
       "</style>\n",
       "<table border=\"1\" class=\"dataframe\">\n",
       "  <thead>\n",
       "    <tr style=\"text-align: right;\">\n",
       "      <th></th>\n",
       "      <th>rating</th>\n",
       "      <th>reviews</th>\n",
       "      <th>price</th>\n",
       "      <th>year</th>\n",
       "      <th>genre</th>\n",
       "      <th>author_Adam Gasiewski</th>\n",
       "      <th>author_Adam Mansbach</th>\n",
       "      <th>author_Adir Levy</th>\n",
       "      <th>author_Admiral William H. McRaven</th>\n",
       "      <th>author_Adult Coloring Book Designs</th>\n",
       "      <th>...</th>\n",
       "      <th>author_Todd Burpo</th>\n",
       "      <th>author_Tony Hsieh</th>\n",
       "      <th>author_Tucker Carlson</th>\n",
       "      <th>author_Veronica Roth</th>\n",
       "      <th>author_W. Cleon Skousen</th>\n",
       "      <th>author_Walter Isaacson</th>\n",
       "      <th>author_William Davis</th>\n",
       "      <th>author_William P. Young</th>\n",
       "      <th>author_Wizards RPG Team</th>\n",
       "      <th>author_Zhi Gang Sha</th>\n",
       "    </tr>\n",
       "    <tr>\n",
       "      <th>name</th>\n",
       "      <th></th>\n",
       "      <th></th>\n",
       "      <th></th>\n",
       "      <th></th>\n",
       "      <th></th>\n",
       "      <th></th>\n",
       "      <th></th>\n",
       "      <th></th>\n",
       "      <th></th>\n",
       "      <th></th>\n",
       "      <th></th>\n",
       "      <th></th>\n",
       "      <th></th>\n",
       "      <th></th>\n",
       "      <th></th>\n",
       "      <th></th>\n",
       "      <th></th>\n",
       "      <th></th>\n",
       "      <th></th>\n",
       "      <th></th>\n",
       "      <th></th>\n",
       "    </tr>\n",
       "  </thead>\n",
       "  <tbody>\n",
       "    <tr>\n",
       "      <th>A Patriot's History of the United States: From Columbus's Great Discovery to the War on Terror</th>\n",
       "      <td>-0.039019</td>\n",
       "      <td>-0.860336</td>\n",
       "      <td>-1.10366</td>\n",
       "      <td>-1.072495</td>\n",
       "      <td>1</td>\n",
       "      <td>0</td>\n",
       "      <td>0</td>\n",
       "      <td>0</td>\n",
       "      <td>0</td>\n",
       "      <td>0</td>\n",
       "      <td>...</td>\n",
       "      <td>0</td>\n",
       "      <td>0</td>\n",
       "      <td>0</td>\n",
       "      <td>0</td>\n",
       "      <td>0</td>\n",
       "      <td>0</td>\n",
       "      <td>0</td>\n",
       "      <td>0</td>\n",
       "      <td>0</td>\n",
       "      <td>0</td>\n",
       "    </tr>\n",
       "  </tbody>\n",
       "</table>\n",
       "<p>1 rows × 252 columns</p>\n",
       "</div>"
      ],
      "text/plain": [
       "                                                      rating   reviews  \\\n",
       "name                                                                     \n",
       "A Patriot's History of the United States: From ... -0.039019 -0.860336   \n",
       "\n",
       "                                                      price      year  genre  \\\n",
       "name                                                                           \n",
       "A Patriot's History of the United States: From ... -1.10366 -1.072495      1   \n",
       "\n",
       "                                                    author_Adam Gasiewski  \\\n",
       "name                                                                        \n",
       "A Patriot's History of the United States: From ...                      0   \n",
       "\n",
       "                                                    author_Adam Mansbach  \\\n",
       "name                                                                       \n",
       "A Patriot's History of the United States: From ...                     0   \n",
       "\n",
       "                                                    author_Adir Levy  \\\n",
       "name                                                                   \n",
       "A Patriot's History of the United States: From ...                 0   \n",
       "\n",
       "                                                    author_Admiral William H. McRaven  \\\n",
       "name                                                                                    \n",
       "A Patriot's History of the United States: From ...                                  0   \n",
       "\n",
       "                                                    author_Adult Coloring Book Designs  \\\n",
       "name                                                                                     \n",
       "A Patriot's History of the United States: From ...                                   0   \n",
       "\n",
       "                                                    ...  author_Todd Burpo  \\\n",
       "name                                                ...                      \n",
       "A Patriot's History of the United States: From ...  ...                  0   \n",
       "\n",
       "                                                    author_Tony Hsieh  \\\n",
       "name                                                                    \n",
       "A Patriot's History of the United States: From ...                  0   \n",
       "\n",
       "                                                    author_Tucker Carlson  \\\n",
       "name                                                                        \n",
       "A Patriot's History of the United States: From ...                      0   \n",
       "\n",
       "                                                    author_Veronica Roth  \\\n",
       "name                                                                       \n",
       "A Patriot's History of the United States: From ...                     0   \n",
       "\n",
       "                                                    author_W. Cleon Skousen  \\\n",
       "name                                                                          \n",
       "A Patriot's History of the United States: From ...                        0   \n",
       "\n",
       "                                                    author_Walter Isaacson  \\\n",
       "name                                                                         \n",
       "A Patriot's History of the United States: From ...                       0   \n",
       "\n",
       "                                                    author_William Davis  \\\n",
       "name                                                                       \n",
       "A Patriot's History of the United States: From ...                     0   \n",
       "\n",
       "                                                    author_William P. Young  \\\n",
       "name                                                                          \n",
       "A Patriot's History of the United States: From ...                        0   \n",
       "\n",
       "                                                    author_Wizards RPG Team  \\\n",
       "name                                                                          \n",
       "A Patriot's History of the United States: From ...                        0   \n",
       "\n",
       "                                                    author_Zhi Gang Sha  \n",
       "name                                                                     \n",
       "A Patriot's History of the United States: From ...                    0  \n",
       "\n",
       "[1 rows x 252 columns]"
      ]
     },
     "execution_count": 161,
     "metadata": {},
     "output_type": "execute_result"
    }
   ],
   "source": [
    "amazon_books.set_index('name', drop=True).loc[[amazon_books.iloc[10, 0]]]"
   ]
  },
  {
   "cell_type": "code",
   "execution_count": null,
   "metadata": {},
   "outputs": [],
   "source": []
  }
 ],
 "metadata": {
  "kernelspec": {
   "display_name": "Python 3",
   "language": "python",
   "name": "python3"
  },
  "language_info": {
   "codemirror_mode": {
    "name": "ipython",
    "version": 3
   },
   "file_extension": ".py",
   "mimetype": "text/x-python",
   "name": "python",
   "nbconvert_exporter": "python",
   "pygments_lexer": "ipython3",
   "version": "3.8.5"
  }
 },
 "nbformat": 4,
 "nbformat_minor": 4
}
